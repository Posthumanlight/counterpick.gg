{
  "nbformat": 4,
  "nbformat_minor": 0,
  "metadata": {
    "colab": {
      "provenance": [],
      "include_colab_link": true
    },
    "kernelspec": {
      "name": "python3",
      "display_name": "Python 3"
    },
    "language_info": {
      "name": "python"
    }
  },
  "cells": [
    {
      "cell_type": "markdown",
      "metadata": {
        "id": "view-in-github",
        "colab_type": "text"
      },
      "source": [
        "<a href=\"https://colab.research.google.com/github/Posthumanlight/counterpick.gg/blob/main/counterpick_gg_test_EDA.ipynb\" target=\"_parent\"><img src=\"https://colab.research.google.com/assets/colab-badge.svg\" alt=\"Open In Colab\"/></a>"
      ]
    },
    {
      "cell_type": "code",
      "execution_count": null,
      "metadata": {
        "id": "7sDGdiH0sFTE"
      },
      "outputs": [],
      "source": [
        "#виносимо всі імпорти на початок, щоб адекватно контролювати dependencies\n",
        "\n",
        "import requests\n",
        "import json\n",
        "\n",
        "import numpy as np\n",
        "import pandas as pd\n",
        "\n",
        "from google.colab import drive\n",
        "from google.colab import auth\n",
        "from google.cloud import bigquery\n",
        "import pandas_gbq\n"
      ]
    },
    {
      "cell_type": "code",
      "source": [
        "# входимо і вписуємо апішні ключі, налаштовуємо сесію\n",
        "\n",
        "auth.authenticate_user()\n",
        "api_key = \"RGAPI-2f8fdec1-e711-49eb-9098-54c890ea7d3d\"\n",
        "drive.mount('/content/drive')\n",
        "\n",
        "bq_project_id = 'poetic-inkwell-412714'\n",
        "bq_client = bigquery.Client(project=bq_project_id)"
      ],
      "metadata": {
        "id": "ROqzpTZJdu6p",
        "colab": {
          "base_uri": "https://localhost:8080/"
        },
        "outputId": "e243be9d-8f26-4399-8b35-9ad6069c6d97"
      },
      "execution_count": null,
      "outputs": [
        {
          "output_type": "stream",
          "name": "stdout",
          "text": [
            "Drive already mounted at /content/drive; to attempt to forcibly remount, call drive.mount(\"/content/drive\", force_remount=True).\n"
          ]
        }
      ]
    },
    {
      "cell_type": "code",
      "source": [
        "#Функції для подальшого використання\n",
        "\n",
        "#трансформуємо списки в датафрейми і завантажуємо їх в бігквері\n",
        "def set_match_id_in_new_list(list, match_id):\n",
        "  for i in range(len(list)):\n",
        "    list[i].append([match_id])\n",
        "def load_table_list2bq(list, column_names, table_bq, transformation = None):\n",
        "  df_from_list=pd.DataFrame(list).set_axis(column_names, axis = 'columns', copy = False)\n",
        "  df_from_list['match_id'] = df_from_list['match_id'].astype(str)\n",
        "  match transformation:\n",
        "    case 'string':\n",
        "      df_from_list = df_from_list.astype(str)\n",
        "\n",
        "  pandas_gbq.to_gbq(dataframe = df_from_list, destination_table = table_bq, project_id = bq_project_id , if_exists='append')"
      ],
      "metadata": {
        "id": "s_oU1LWK6iU2"
      },
      "execution_count": null,
      "outputs": []
    },
    {
      "cell_type": "code",
      "source": [
        "gameName = input('Nickname ')\n",
        "tag_line = input('Tag ')\n"
      ],
      "metadata": {
        "id": "J5bmYnzlsTtI",
        "colab": {
          "base_uri": "https://localhost:8080/"
        },
        "outputId": "a2b94d1e-959b-419e-89f7-b023d977e69c"
      },
      "execution_count": null,
      "outputs": [
        {
          "name": "stdout",
          "output_type": "stream",
          "text": [
            "Nickname PepegaKiller\n",
            "Tag SS\n"
          ]
        }
      ]
    },
    {
      "cell_type": "code",
      "source": [
        "summoner_by_name = \"https://europe.api.riotgames.com/riot/account/v1/accounts/by-riot-id/\" + gameName + \"/\" + tag_line + \"?api_key=\" + api_key"
      ],
      "metadata": {
        "id": "xAPZUQpOs1OM"
      },
      "execution_count": null,
      "outputs": []
    },
    {
      "cell_type": "code",
      "source": [
        "requests.get(summoner_by_name)"
      ],
      "metadata": {
        "colab": {
          "base_uri": "https://localhost:8080/"
        },
        "id": "xoyQ3pppsHei",
        "outputId": "86a9e01d-31e7-4de8-84fb-3df094292026"
      },
      "execution_count": null,
      "outputs": [
        {
          "output_type": "execute_result",
          "data": {
            "text/plain": [
              "<Response [200]>"
            ]
          },
          "metadata": {},
          "execution_count": 6
        }
      ]
    },
    {
      "cell_type": "code",
      "source": [
        "resp = requests.get(summoner_by_name)"
      ],
      "metadata": {
        "id": "N2AFBdoiuZ6m"
      },
      "execution_count": null,
      "outputs": []
    },
    {
      "cell_type": "code",
      "source": [
        "player_info = resp.json()\n",
        "player_puuid = player_info['puuid']\n"
      ],
      "metadata": {
        "id": "_YH7UnrtFaj9"
      },
      "execution_count": null,
      "outputs": []
    },
    {
      "cell_type": "code",
      "source": [
        "last_20match_id_by_puuid_url = \"https://europe.api.riotgames.com/lol/match/v5/matches/by-puuid/\" + player_puuid + \"/ids?start=0&count=20&api_key=\" + api_key\n",
        "requests.get(last_20match_id_by_puuid_url)\n",
        "resp_last_20match_id_by_puuid_url = requests.get(last_20match_id_by_puuid_url)\n",
        "last_20match_id_by_puuid = resp_last_20match_id_by_puuid_url.json()\n",
        "last_20match_id_by_puuid"
      ],
      "metadata": {
        "id": "WK0x9GOd7o8b",
        "colab": {
          "base_uri": "https://localhost:8080/"
        },
        "outputId": "fc266adb-3de4-4ec1-9eaa-c158ab071e4e"
      },
      "execution_count": null,
      "outputs": [
        {
          "output_type": "execute_result",
          "data": {
            "text/plain": [
              "['EUW1_6811027417',\n",
              " 'EUW1_6810952380',\n",
              " 'EUW1_6806267824',\n",
              " 'EUW1_6806215972',\n",
              " 'EUW1_6803391247',\n",
              " 'EUW1_6803301902',\n",
              " 'EUW1_6798759960',\n",
              " 'EUW1_6798700711',\n",
              " 'EUW1_6798626936',\n",
              " 'EUW1_6798554464',\n",
              " 'EUW1_6798495414',\n",
              " 'EUW1_6798437132',\n",
              " 'EUW1_6798388751',\n",
              " 'EUW1_6798335898',\n",
              " 'EUW1_6798280561',\n",
              " 'EUW1_6797489801',\n",
              " 'EUW1_6797448605',\n",
              " 'EUW1_6797356433',\n",
              " 'EUW1_6797278763',\n",
              " 'EUW1_6797209380']"
            ]
          },
          "metadata": {},
          "execution_count": 9
        }
      ]
    },
    {
      "cell_type": "code",
      "source": [
        "list_match_metadata = []\n",
        "list_player_id = []\n",
        "list_champion_id= []\n",
        "list_kill_per_champion = []\n",
        "list_death_per_champion = []\n",
        "list_assist_per_champion = []\n",
        "list_gpm_per_champion = []\n",
        "list_dpm_per_champion = []\n",
        "\n",
        "for i in range(20):\n",
        "  #отримуємо і формуємо джейсони відповідей\n",
        "  match_info_by_match_id_url = \"https://europe.api.riotgames.com/lol/match/v5/matches/\" + last_20match_id_by_puuid[i] + \"?api_key=\" + api_key\n",
        "  resp_match_info_by_match_id_url = requests.get(match_info_by_match_id_url)\n",
        "  match_info_by_match_id = resp_match_info_by_match_id_url.json()\n",
        "  match_timeline_by_match_id_url = \"https://europe.api.riotgames.com/lol/match/v5/matches/\" + last_20match_id_by_puuid[i] + '/timeline' + \"?api_key=\" + api_key\n",
        "  match_timeline_by_match_id = requests.get(match_timeline_by_match_id_url).json()\n",
        "\n",
        "  #Ініціалізовуємо списки різних атрибутів\n",
        "\n",
        "\n",
        "  #Заповнюємо лісти даними з джейсона\n",
        "  list_match_metadata.append(match_info_by_match_id['info']['gameId'])\n",
        "  list_match_metadata.append(match_info_by_match_id['info']['participants'][0]['win'])\n",
        "  list_match_metadata.append(round(match_info_by_match_id['info']['gameDuration']))\n",
        "  if list_match_metadata[1] == 'true':\n",
        "    list_match_metadata[1] = 1\n",
        "  else:\n",
        "    list_match_metadata[1] = 0\n",
        "  set_match_id_in_new_list([list_player_id, list_champion_id, list_kill_per_champion, list_death_per_champion, list_assist_per_champion, list_gpm_per_champion, list_dpm_per_champion], match_info_by_match_id['info']['gameId'])\n",
        "  for j in range(10):\n",
        "    list_player_id[i].append(match_info_by_match_id['metadata']['participants'][j])\n",
        "    list_champion_id[i].append(match_info_by_match_id['info']['participants'][j]['championId'])\n",
        "    list_kill_per_champion[i].append(match_info_by_match_id['info']['participants'][j]['kills'])\n",
        "    list_death_per_champion[i].append(match_info_by_match_id['info']['participants'][j]['deaths'])\n",
        "    list_assist_per_champion[i].append(match_info_by_match_id['info']['participants'][j]['assists'])\n",
        "    list_gpm_per_champion[i].append(round(match_info_by_match_id['info']['participants'][j]['challenges']['goldPerMinute']))\n",
        "    list_dpm_per_champion[i].append(match_info_by_match_id['info']['participants'][j]['challenges']['damagePerMinute'])\n",
        "\n",
        "  #Завантажуємо дані в бігквері\n",
        "load_table_list2bq(list_match_metadata, ['match_id', 'match_win_team1', 'match_duration'], 'match_information.match_information_metadata')\n",
        "load_table_list2bq(list_player_id, ['match_id', 'player_id1','player_id2','player_id3','player_id4','player_id5','player_id6','player_id7','player_id8','player_id9','player_id10'], 'match_information.match_information_players')\n",
        "load_table_list2bq(list_champion_id, ['match_id', 'champion_id1','champion_id2','champion_id3','champion_id4','champion_id5','champion_id6','champion_id7','champion_id8','champion_id9','champion_id10'], 'match_information.match_information_champions_picked', 'string')\n",
        "load_table_list2bq(list_kill_per_champion, ['match_id', 'champion_kill1','champion_kill2','champion_kill3','champion_kill4','champion_kill5','champion_kill6','champion_kill7','champion_kill8','champion_kill9','champion_kill10'], 'match_information.match_information_champions_kill')\n",
        "load_table_list2bq(list_death_per_champion, ['match_id', 'champion_death1','champion_death2','champion_death3','champion_death4','champion_death5','champion_death6','champion_death7','champion_death8','champion_death9','champion_death10'], 'match_information.match_information_champions_death')\n",
        "load_table_list2bq(list_assist_per_champion, ['match_id', 'champion_assist1','champion_assist2','champion_assist3','champion_assist4','champion_assist5','champion_assist6','champion_assist7','champion_assist8','champion_assist9','champion_assist10'], 'match_information.match_information_champions_assist')\n",
        "load_table_list2bq(list_gpm_per_champion, ['match_id', 'champion_gpm1','champion_gpm2','champion_gpm3','champion_gpm4','champion_gpm5','champion_gpm6','champion_gpm7','champion_gpm8','champion_gpm9','champion_gpm10'], 'match_information.match_information_champions_gpm')\n",
        "load_table_list2bq(list_dpm_per_champion, ['match_id', 'champion_dpm1','champion_dpm2','champion_dpm3','champion_dpm4','champion_dpm5','champion_dpm6','champion_dpm7','champion_dpm8','champion_dpm9','champion_dpm10'], 'match_information.match_information_champions_dpm')\n"
      ],
      "metadata": {
        "id": "KlDBDygm9VI0",
        "colab": {
          "base_uri": "https://localhost:8080/",
          "height": 460
        },
        "outputId": "6bffc001-95a5-42f7-b1d1-7d61a95d61a2"
      },
      "execution_count": null,
      "outputs": [
        {
          "output_type": "error",
          "ename": "ValueError",
          "evalue": "Length mismatch: Expected axis has 1 elements, new values have 3 elements",
          "traceback": [
            "\u001b[0;31m---------------------------------------------------------------------------\u001b[0m",
            "\u001b[0;31mValueError\u001b[0m                                Traceback (most recent call last)",
            "\u001b[0;32m<ipython-input-17-81b3cb9abbb1>\u001b[0m in \u001b[0;36m<cell line: 40>\u001b[0;34m()\u001b[0m\n\u001b[1;32m     38\u001b[0m \u001b[0;34m\u001b[0m\u001b[0m\n\u001b[1;32m     39\u001b[0m   \u001b[0;31m#Завантажуємо дані в бігквері\u001b[0m\u001b[0;34m\u001b[0m\u001b[0;34m\u001b[0m\u001b[0m\n\u001b[0;32m---> 40\u001b[0;31m \u001b[0mload_table_list2bq\u001b[0m\u001b[0;34m(\u001b[0m\u001b[0mlist_match_metadata\u001b[0m\u001b[0;34m,\u001b[0m \u001b[0;34m[\u001b[0m\u001b[0;34m'match_id'\u001b[0m\u001b[0;34m,\u001b[0m \u001b[0;34m'match_win_team1'\u001b[0m\u001b[0;34m,\u001b[0m \u001b[0;34m'match_duration'\u001b[0m\u001b[0;34m]\u001b[0m\u001b[0;34m,\u001b[0m \u001b[0;34m'match_information.match_information_metadata'\u001b[0m\u001b[0;34m)\u001b[0m\u001b[0;34m\u001b[0m\u001b[0;34m\u001b[0m\u001b[0m\n\u001b[0m\u001b[1;32m     41\u001b[0m \u001b[0mload_table_list2bq\u001b[0m\u001b[0;34m(\u001b[0m\u001b[0mlist_player_id\u001b[0m\u001b[0;34m,\u001b[0m \u001b[0;34m[\u001b[0m\u001b[0;34m'match_id'\u001b[0m\u001b[0;34m,\u001b[0m \u001b[0;34m'player_id1'\u001b[0m\u001b[0;34m,\u001b[0m\u001b[0;34m'player_id2'\u001b[0m\u001b[0;34m,\u001b[0m\u001b[0;34m'player_id3'\u001b[0m\u001b[0;34m,\u001b[0m\u001b[0;34m'player_id4'\u001b[0m\u001b[0;34m,\u001b[0m\u001b[0;34m'player_id5'\u001b[0m\u001b[0;34m,\u001b[0m\u001b[0;34m'player_id6'\u001b[0m\u001b[0;34m,\u001b[0m\u001b[0;34m'player_id7'\u001b[0m\u001b[0;34m,\u001b[0m\u001b[0;34m'player_id8'\u001b[0m\u001b[0;34m,\u001b[0m\u001b[0;34m'player_id9'\u001b[0m\u001b[0;34m,\u001b[0m\u001b[0;34m'player_id10'\u001b[0m\u001b[0;34m]\u001b[0m\u001b[0;34m,\u001b[0m \u001b[0;34m'match_information.match_information_players'\u001b[0m\u001b[0;34m)\u001b[0m\u001b[0;34m\u001b[0m\u001b[0;34m\u001b[0m\u001b[0m\n\u001b[1;32m     42\u001b[0m \u001b[0mload_table_list2bq\u001b[0m\u001b[0;34m(\u001b[0m\u001b[0mlist_champion_id\u001b[0m\u001b[0;34m,\u001b[0m \u001b[0;34m[\u001b[0m\u001b[0;34m'match_id'\u001b[0m\u001b[0;34m,\u001b[0m \u001b[0;34m'champion_id1'\u001b[0m\u001b[0;34m,\u001b[0m\u001b[0;34m'champion_id2'\u001b[0m\u001b[0;34m,\u001b[0m\u001b[0;34m'champion_id3'\u001b[0m\u001b[0;34m,\u001b[0m\u001b[0;34m'champion_id4'\u001b[0m\u001b[0;34m,\u001b[0m\u001b[0;34m'champion_id5'\u001b[0m\u001b[0;34m,\u001b[0m\u001b[0;34m'champion_id6'\u001b[0m\u001b[0;34m,\u001b[0m\u001b[0;34m'champion_id7'\u001b[0m\u001b[0;34m,\u001b[0m\u001b[0;34m'champion_id8'\u001b[0m\u001b[0;34m,\u001b[0m\u001b[0;34m'champion_id9'\u001b[0m\u001b[0;34m,\u001b[0m\u001b[0;34m'champion_id10'\u001b[0m\u001b[0;34m]\u001b[0m\u001b[0;34m,\u001b[0m \u001b[0;34m'match_information.match_information_champions_picked'\u001b[0m\u001b[0;34m,\u001b[0m \u001b[0;34m'string'\u001b[0m\u001b[0;34m)\u001b[0m\u001b[0;34m\u001b[0m\u001b[0;34m\u001b[0m\u001b[0m\n",
            "\u001b[0;32m<ipython-input-3-eb0cc740b9f5>\u001b[0m in \u001b[0;36mload_table_list2bq\u001b[0;34m(list, column_names, table_bq, transformation)\u001b[0m\n\u001b[1;32m      6\u001b[0m     \u001b[0mlist\u001b[0m\u001b[0;34m[\u001b[0m\u001b[0mi\u001b[0m\u001b[0;34m]\u001b[0m\u001b[0;34m.\u001b[0m\u001b[0mappend\u001b[0m\u001b[0;34m(\u001b[0m\u001b[0;34m[\u001b[0m\u001b[0mmatch_id\u001b[0m\u001b[0;34m]\u001b[0m\u001b[0;34m)\u001b[0m\u001b[0;34m\u001b[0m\u001b[0;34m\u001b[0m\u001b[0m\n\u001b[1;32m      7\u001b[0m \u001b[0;32mdef\u001b[0m \u001b[0mload_table_list2bq\u001b[0m\u001b[0;34m(\u001b[0m\u001b[0mlist\u001b[0m\u001b[0;34m,\u001b[0m \u001b[0mcolumn_names\u001b[0m\u001b[0;34m,\u001b[0m \u001b[0mtable_bq\u001b[0m\u001b[0;34m,\u001b[0m \u001b[0mtransformation\u001b[0m \u001b[0;34m=\u001b[0m \u001b[0;32mNone\u001b[0m\u001b[0;34m)\u001b[0m\u001b[0;34m:\u001b[0m\u001b[0;34m\u001b[0m\u001b[0;34m\u001b[0m\u001b[0m\n\u001b[0;32m----> 8\u001b[0;31m   \u001b[0mdf_from_list\u001b[0m\u001b[0;34m=\u001b[0m\u001b[0mpd\u001b[0m\u001b[0;34m.\u001b[0m\u001b[0mDataFrame\u001b[0m\u001b[0;34m(\u001b[0m\u001b[0mlist\u001b[0m\u001b[0;34m)\u001b[0m\u001b[0;34m.\u001b[0m\u001b[0mset_axis\u001b[0m\u001b[0;34m(\u001b[0m\u001b[0mcolumn_names\u001b[0m\u001b[0;34m,\u001b[0m \u001b[0maxis\u001b[0m \u001b[0;34m=\u001b[0m \u001b[0;34m'columns'\u001b[0m\u001b[0;34m,\u001b[0m \u001b[0mcopy\u001b[0m \u001b[0;34m=\u001b[0m \u001b[0;32mFalse\u001b[0m\u001b[0;34m)\u001b[0m\u001b[0;34m\u001b[0m\u001b[0;34m\u001b[0m\u001b[0m\n\u001b[0m\u001b[1;32m      9\u001b[0m   \u001b[0mdf_from_list\u001b[0m\u001b[0;34m[\u001b[0m\u001b[0;34m'match_id'\u001b[0m\u001b[0;34m]\u001b[0m \u001b[0;34m=\u001b[0m \u001b[0mdf_from_list\u001b[0m\u001b[0;34m[\u001b[0m\u001b[0;34m'match_id'\u001b[0m\u001b[0;34m]\u001b[0m\u001b[0;34m.\u001b[0m\u001b[0mastype\u001b[0m\u001b[0;34m(\u001b[0m\u001b[0mstr\u001b[0m\u001b[0;34m)\u001b[0m\u001b[0;34m\u001b[0m\u001b[0;34m\u001b[0m\u001b[0m\n\u001b[1;32m     10\u001b[0m   \u001b[0mmatch\u001b[0m \u001b[0mtransformation\u001b[0m\u001b[0;34m:\u001b[0m\u001b[0;34m\u001b[0m\u001b[0;34m\u001b[0m\u001b[0m\n",
            "\u001b[0;32m/usr/local/lib/python3.10/dist-packages/pandas/util/_decorators.py\u001b[0m in \u001b[0;36mwrapper\u001b[0;34m(*args, **kwargs)\u001b[0m\n\u001b[1;32m    329\u001b[0m                     \u001b[0mstacklevel\u001b[0m\u001b[0;34m=\u001b[0m\u001b[0mfind_stack_level\u001b[0m\u001b[0;34m(\u001b[0m\u001b[0;34m)\u001b[0m\u001b[0;34m,\u001b[0m\u001b[0;34m\u001b[0m\u001b[0;34m\u001b[0m\u001b[0m\n\u001b[1;32m    330\u001b[0m                 )\n\u001b[0;32m--> 331\u001b[0;31m             \u001b[0;32mreturn\u001b[0m \u001b[0mfunc\u001b[0m\u001b[0;34m(\u001b[0m\u001b[0;34m*\u001b[0m\u001b[0margs\u001b[0m\u001b[0;34m,\u001b[0m \u001b[0;34m**\u001b[0m\u001b[0mkwargs\u001b[0m\u001b[0;34m)\u001b[0m\u001b[0;34m\u001b[0m\u001b[0;34m\u001b[0m\u001b[0m\n\u001b[0m\u001b[1;32m    332\u001b[0m \u001b[0;34m\u001b[0m\u001b[0m\n\u001b[1;32m    333\u001b[0m         \u001b[0;31m# error: \"Callable[[VarArg(Any), KwArg(Any)], Any]\" has no\u001b[0m\u001b[0;34m\u001b[0m\u001b[0;34m\u001b[0m\u001b[0m\n",
            "\u001b[0;32m/usr/local/lib/python3.10/dist-packages/pandas/core/frame.py\u001b[0m in \u001b[0;36mset_axis\u001b[0;34m(self, labels, axis, inplace, copy)\u001b[0m\n\u001b[1;32m   5182\u001b[0m         \u001b[0mcopy\u001b[0m\u001b[0;34m:\u001b[0m \u001b[0mbool\u001b[0m \u001b[0;34m|\u001b[0m \u001b[0mlib\u001b[0m\u001b[0;34m.\u001b[0m\u001b[0mNoDefault\u001b[0m \u001b[0;34m=\u001b[0m \u001b[0mlib\u001b[0m\u001b[0;34m.\u001b[0m\u001b[0mno_default\u001b[0m\u001b[0;34m,\u001b[0m\u001b[0;34m\u001b[0m\u001b[0;34m\u001b[0m\u001b[0m\n\u001b[1;32m   5183\u001b[0m     ):\n\u001b[0;32m-> 5184\u001b[0;31m         \u001b[0;32mreturn\u001b[0m \u001b[0msuper\u001b[0m\u001b[0;34m(\u001b[0m\u001b[0;34m)\u001b[0m\u001b[0;34m.\u001b[0m\u001b[0mset_axis\u001b[0m\u001b[0;34m(\u001b[0m\u001b[0mlabels\u001b[0m\u001b[0;34m,\u001b[0m \u001b[0maxis\u001b[0m\u001b[0;34m=\u001b[0m\u001b[0maxis\u001b[0m\u001b[0;34m,\u001b[0m \u001b[0minplace\u001b[0m\u001b[0;34m=\u001b[0m\u001b[0minplace\u001b[0m\u001b[0;34m,\u001b[0m \u001b[0mcopy\u001b[0m\u001b[0;34m=\u001b[0m\u001b[0mcopy\u001b[0m\u001b[0;34m)\u001b[0m\u001b[0;34m\u001b[0m\u001b[0;34m\u001b[0m\u001b[0m\n\u001b[0m\u001b[1;32m   5185\u001b[0m \u001b[0;34m\u001b[0m\u001b[0m\n\u001b[1;32m   5186\u001b[0m     \u001b[0;34m@\u001b[0m\u001b[0mSubstitution\u001b[0m\u001b[0;34m(\u001b[0m\u001b[0;34m**\u001b[0m\u001b[0m_shared_doc_kwargs\u001b[0m\u001b[0;34m)\u001b[0m\u001b[0;34m\u001b[0m\u001b[0;34m\u001b[0m\u001b[0m\n",
            "\u001b[0;32m/usr/local/lib/python3.10/dist-packages/pandas/util/_decorators.py\u001b[0m in \u001b[0;36mwrapper\u001b[0;34m(*args, **kwargs)\u001b[0m\n\u001b[1;32m    329\u001b[0m                     \u001b[0mstacklevel\u001b[0m\u001b[0;34m=\u001b[0m\u001b[0mfind_stack_level\u001b[0m\u001b[0;34m(\u001b[0m\u001b[0;34m)\u001b[0m\u001b[0;34m,\u001b[0m\u001b[0;34m\u001b[0m\u001b[0;34m\u001b[0m\u001b[0m\n\u001b[1;32m    330\u001b[0m                 )\n\u001b[0;32m--> 331\u001b[0;31m             \u001b[0;32mreturn\u001b[0m \u001b[0mfunc\u001b[0m\u001b[0;34m(\u001b[0m\u001b[0;34m*\u001b[0m\u001b[0margs\u001b[0m\u001b[0;34m,\u001b[0m \u001b[0;34m**\u001b[0m\u001b[0mkwargs\u001b[0m\u001b[0;34m)\u001b[0m\u001b[0;34m\u001b[0m\u001b[0;34m\u001b[0m\u001b[0m\n\u001b[0m\u001b[1;32m    332\u001b[0m \u001b[0;34m\u001b[0m\u001b[0m\n\u001b[1;32m    333\u001b[0m         \u001b[0;31m# error: \"Callable[[VarArg(Any), KwArg(Any)], Any]\" has no\u001b[0m\u001b[0;34m\u001b[0m\u001b[0;34m\u001b[0m\u001b[0m\n",
            "\u001b[0;32m/usr/local/lib/python3.10/dist-packages/pandas/core/generic.py\u001b[0m in \u001b[0;36mset_axis\u001b[0;34m(self, labels, axis, inplace, copy)\u001b[0m\n\u001b[1;32m    806\u001b[0m \u001b[0;34m\u001b[0m\u001b[0m\n\u001b[1;32m    807\u001b[0m         \u001b[0mself\u001b[0m\u001b[0;34m.\u001b[0m\u001b[0m_check_inplace_and_allows_duplicate_labels\u001b[0m\u001b[0;34m(\u001b[0m\u001b[0minplace\u001b[0m\u001b[0;34m)\u001b[0m\u001b[0;34m\u001b[0m\u001b[0;34m\u001b[0m\u001b[0m\n\u001b[0;32m--> 808\u001b[0;31m         \u001b[0;32mreturn\u001b[0m \u001b[0mself\u001b[0m\u001b[0;34m.\u001b[0m\u001b[0m_set_axis_nocheck\u001b[0m\u001b[0;34m(\u001b[0m\u001b[0mlabels\u001b[0m\u001b[0;34m,\u001b[0m \u001b[0maxis\u001b[0m\u001b[0;34m,\u001b[0m \u001b[0minplace\u001b[0m\u001b[0;34m,\u001b[0m \u001b[0mcopy\u001b[0m\u001b[0;34m=\u001b[0m\u001b[0mcopy\u001b[0m\u001b[0;34m)\u001b[0m\u001b[0;34m\u001b[0m\u001b[0;34m\u001b[0m\u001b[0m\n\u001b[0m\u001b[1;32m    809\u001b[0m \u001b[0;34m\u001b[0m\u001b[0m\n\u001b[1;32m    810\u001b[0m     \u001b[0;34m@\u001b[0m\u001b[0mfinal\u001b[0m\u001b[0;34m\u001b[0m\u001b[0;34m\u001b[0m\u001b[0m\n",
            "\u001b[0;32m/usr/local/lib/python3.10/dist-packages/pandas/core/generic.py\u001b[0m in \u001b[0;36m_set_axis_nocheck\u001b[0;34m(self, labels, axis, inplace, copy)\u001b[0m\n\u001b[1;32m    816\u001b[0m             \u001b[0;31m#  underlying data.\u001b[0m\u001b[0;34m\u001b[0m\u001b[0;34m\u001b[0m\u001b[0m\n\u001b[1;32m    817\u001b[0m             \u001b[0mobj\u001b[0m \u001b[0;34m=\u001b[0m \u001b[0mself\u001b[0m\u001b[0;34m.\u001b[0m\u001b[0mcopy\u001b[0m\u001b[0;34m(\u001b[0m\u001b[0mdeep\u001b[0m\u001b[0;34m=\u001b[0m\u001b[0mcopy\u001b[0m\u001b[0;34m)\u001b[0m\u001b[0;34m\u001b[0m\u001b[0;34m\u001b[0m\u001b[0m\n\u001b[0;32m--> 818\u001b[0;31m             \u001b[0msetattr\u001b[0m\u001b[0;34m(\u001b[0m\u001b[0mobj\u001b[0m\u001b[0;34m,\u001b[0m \u001b[0mobj\u001b[0m\u001b[0;34m.\u001b[0m\u001b[0m_get_axis_name\u001b[0m\u001b[0;34m(\u001b[0m\u001b[0maxis\u001b[0m\u001b[0;34m)\u001b[0m\u001b[0;34m,\u001b[0m \u001b[0mlabels\u001b[0m\u001b[0;34m)\u001b[0m\u001b[0;34m\u001b[0m\u001b[0;34m\u001b[0m\u001b[0m\n\u001b[0m\u001b[1;32m    819\u001b[0m             \u001b[0;32mreturn\u001b[0m \u001b[0mobj\u001b[0m\u001b[0;34m\u001b[0m\u001b[0;34m\u001b[0m\u001b[0m\n\u001b[1;32m    820\u001b[0m \u001b[0;34m\u001b[0m\u001b[0m\n",
            "\u001b[0;32m/usr/local/lib/python3.10/dist-packages/pandas/core/generic.py\u001b[0m in \u001b[0;36m__setattr__\u001b[0;34m(self, name, value)\u001b[0m\n\u001b[1;32m   5913\u001b[0m         \u001b[0;32mtry\u001b[0m\u001b[0;34m:\u001b[0m\u001b[0;34m\u001b[0m\u001b[0;34m\u001b[0m\u001b[0m\n\u001b[1;32m   5914\u001b[0m             \u001b[0mobject\u001b[0m\u001b[0;34m.\u001b[0m\u001b[0m__getattribute__\u001b[0m\u001b[0;34m(\u001b[0m\u001b[0mself\u001b[0m\u001b[0;34m,\u001b[0m \u001b[0mname\u001b[0m\u001b[0;34m)\u001b[0m\u001b[0;34m\u001b[0m\u001b[0;34m\u001b[0m\u001b[0m\n\u001b[0;32m-> 5915\u001b[0;31m             \u001b[0;32mreturn\u001b[0m \u001b[0mobject\u001b[0m\u001b[0;34m.\u001b[0m\u001b[0m__setattr__\u001b[0m\u001b[0;34m(\u001b[0m\u001b[0mself\u001b[0m\u001b[0;34m,\u001b[0m \u001b[0mname\u001b[0m\u001b[0;34m,\u001b[0m \u001b[0mvalue\u001b[0m\u001b[0;34m)\u001b[0m\u001b[0;34m\u001b[0m\u001b[0;34m\u001b[0m\u001b[0m\n\u001b[0m\u001b[1;32m   5916\u001b[0m         \u001b[0;32mexcept\u001b[0m \u001b[0mAttributeError\u001b[0m\u001b[0;34m:\u001b[0m\u001b[0;34m\u001b[0m\u001b[0;34m\u001b[0m\u001b[0m\n\u001b[1;32m   5917\u001b[0m             \u001b[0;32mpass\u001b[0m\u001b[0;34m\u001b[0m\u001b[0;34m\u001b[0m\u001b[0m\n",
            "\u001b[0;32m/usr/local/lib/python3.10/dist-packages/pandas/_libs/properties.pyx\u001b[0m in \u001b[0;36mpandas._libs.properties.AxisProperty.__set__\u001b[0;34m()\u001b[0m\n",
            "\u001b[0;32m/usr/local/lib/python3.10/dist-packages/pandas/core/generic.py\u001b[0m in \u001b[0;36m_set_axis\u001b[0;34m(self, axis, labels)\u001b[0m\n\u001b[1;32m    821\u001b[0m     \u001b[0;32mdef\u001b[0m \u001b[0m_set_axis\u001b[0m\u001b[0;34m(\u001b[0m\u001b[0mself\u001b[0m\u001b[0;34m,\u001b[0m \u001b[0maxis\u001b[0m\u001b[0;34m:\u001b[0m \u001b[0mint\u001b[0m\u001b[0;34m,\u001b[0m \u001b[0mlabels\u001b[0m\u001b[0;34m:\u001b[0m \u001b[0mAnyArrayLike\u001b[0m \u001b[0;34m|\u001b[0m \u001b[0mlist\u001b[0m\u001b[0;34m)\u001b[0m \u001b[0;34m->\u001b[0m \u001b[0;32mNone\u001b[0m\u001b[0;34m:\u001b[0m\u001b[0;34m\u001b[0m\u001b[0;34m\u001b[0m\u001b[0m\n\u001b[1;32m    822\u001b[0m         \u001b[0mlabels\u001b[0m \u001b[0;34m=\u001b[0m \u001b[0mensure_index\u001b[0m\u001b[0;34m(\u001b[0m\u001b[0mlabels\u001b[0m\u001b[0;34m)\u001b[0m\u001b[0;34m\u001b[0m\u001b[0;34m\u001b[0m\u001b[0m\n\u001b[0;32m--> 823\u001b[0;31m         \u001b[0mself\u001b[0m\u001b[0;34m.\u001b[0m\u001b[0m_mgr\u001b[0m\u001b[0;34m.\u001b[0m\u001b[0mset_axis\u001b[0m\u001b[0;34m(\u001b[0m\u001b[0maxis\u001b[0m\u001b[0;34m,\u001b[0m \u001b[0mlabels\u001b[0m\u001b[0;34m)\u001b[0m\u001b[0;34m\u001b[0m\u001b[0;34m\u001b[0m\u001b[0m\n\u001b[0m\u001b[1;32m    824\u001b[0m         \u001b[0mself\u001b[0m\u001b[0;34m.\u001b[0m\u001b[0m_clear_item_cache\u001b[0m\u001b[0;34m(\u001b[0m\u001b[0;34m)\u001b[0m\u001b[0;34m\u001b[0m\u001b[0;34m\u001b[0m\u001b[0m\n\u001b[1;32m    825\u001b[0m \u001b[0;34m\u001b[0m\u001b[0m\n",
            "\u001b[0;32m/usr/local/lib/python3.10/dist-packages/pandas/core/internals/managers.py\u001b[0m in \u001b[0;36mset_axis\u001b[0;34m(self, axis, new_labels)\u001b[0m\n\u001b[1;32m    228\u001b[0m     \u001b[0;32mdef\u001b[0m \u001b[0mset_axis\u001b[0m\u001b[0;34m(\u001b[0m\u001b[0mself\u001b[0m\u001b[0;34m,\u001b[0m \u001b[0maxis\u001b[0m\u001b[0;34m:\u001b[0m \u001b[0mint\u001b[0m\u001b[0;34m,\u001b[0m \u001b[0mnew_labels\u001b[0m\u001b[0;34m:\u001b[0m \u001b[0mIndex\u001b[0m\u001b[0;34m)\u001b[0m \u001b[0;34m->\u001b[0m \u001b[0;32mNone\u001b[0m\u001b[0;34m:\u001b[0m\u001b[0;34m\u001b[0m\u001b[0;34m\u001b[0m\u001b[0m\n\u001b[1;32m    229\u001b[0m         \u001b[0;31m# Caller is responsible for ensuring we have an Index object.\u001b[0m\u001b[0;34m\u001b[0m\u001b[0;34m\u001b[0m\u001b[0m\n\u001b[0;32m--> 230\u001b[0;31m         \u001b[0mself\u001b[0m\u001b[0;34m.\u001b[0m\u001b[0m_validate_set_axis\u001b[0m\u001b[0;34m(\u001b[0m\u001b[0maxis\u001b[0m\u001b[0;34m,\u001b[0m \u001b[0mnew_labels\u001b[0m\u001b[0;34m)\u001b[0m\u001b[0;34m\u001b[0m\u001b[0;34m\u001b[0m\u001b[0m\n\u001b[0m\u001b[1;32m    231\u001b[0m         \u001b[0mself\u001b[0m\u001b[0;34m.\u001b[0m\u001b[0maxes\u001b[0m\u001b[0;34m[\u001b[0m\u001b[0maxis\u001b[0m\u001b[0;34m]\u001b[0m \u001b[0;34m=\u001b[0m \u001b[0mnew_labels\u001b[0m\u001b[0;34m\u001b[0m\u001b[0;34m\u001b[0m\u001b[0m\n\u001b[1;32m    232\u001b[0m \u001b[0;34m\u001b[0m\u001b[0m\n",
            "\u001b[0;32m/usr/local/lib/python3.10/dist-packages/pandas/core/internals/base.py\u001b[0m in \u001b[0;36m_validate_set_axis\u001b[0;34m(self, axis, new_labels)\u001b[0m\n\u001b[1;32m     68\u001b[0m \u001b[0;34m\u001b[0m\u001b[0m\n\u001b[1;32m     69\u001b[0m         \u001b[0;32melif\u001b[0m \u001b[0mnew_len\u001b[0m \u001b[0;34m!=\u001b[0m \u001b[0mold_len\u001b[0m\u001b[0;34m:\u001b[0m\u001b[0;34m\u001b[0m\u001b[0;34m\u001b[0m\u001b[0m\n\u001b[0;32m---> 70\u001b[0;31m             raise ValueError(\n\u001b[0m\u001b[1;32m     71\u001b[0m                 \u001b[0;34mf\"Length mismatch: Expected axis has {old_len} elements, new \"\u001b[0m\u001b[0;34m\u001b[0m\u001b[0;34m\u001b[0m\u001b[0m\n\u001b[1;32m     72\u001b[0m                 \u001b[0;34mf\"values have {new_len} elements\"\u001b[0m\u001b[0;34m\u001b[0m\u001b[0;34m\u001b[0m\u001b[0m\n",
            "\u001b[0;31mValueError\u001b[0m: Length mismatch: Expected axis has 1 elements, new values have 3 elements"
          ]
        }
      ]
    },
    {
      "cell_type": "code",
      "source": [
        "'''with open('drive/MyDrive/match_data_json_test.json', 'w') as f:\n",
        "  json.dump(match_info_by_match_id, f)\n",
        "with open('drive/MyDrive/match_timeline_json_test.json', 'w') as f:\n",
        "  json.dump(match_timeline_by_match_id, f)\n",
        "'''"
      ],
      "metadata": {
        "id": "y3OLLJh9fLwW"
      },
      "execution_count": null,
      "outputs": []
    }
  ]
}